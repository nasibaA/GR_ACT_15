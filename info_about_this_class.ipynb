{
 "cells": [
  {
   "cell_type": "markdown",
   "id": "187405ac",
   "metadata": {},
   "source": [
    "https://towardsdatascience.com/svm-and-kernel-svm-fed02bef1200#:~:text=The%20main%20idea%20is%20that%20based%20on%20the,two%20dimensions%20the%20hyperplane%20is%20a%20simple%20line."
   ]
  },
  {
   "cell_type": "markdown",
   "id": "c078090a",
   "metadata": {},
   "source": [
    "https://machinelearningmastery.com/random-oversampling-and-undersampling-for-imbalanced-classification/#:~:text=Unlike%20the%20scikit-learn%20transforms%2C%20it%20will%20change%20the,2%203...%20%23%20fit%20and%20apply%20the%20transform"
   ]
  },
  {
   "cell_type": "markdown",
   "id": "d2ea8d65",
   "metadata": {},
   "source": [
    "https://machinelearningmastery.com/combine-oversampling-and-undersampling-for-imbalanced-classification/#:~:text=Oversampling%20methods%20duplicate%20or%20create%20new%20synthetic%20examples,when%20both%20types%20of%20methods%20are%20used%20together."
   ]
  },
  {
   "cell_type": "markdown",
   "id": "36e85205",
   "metadata": {},
   "source": [
    "Undersampling means -  that you discard a number of data points of the class that is present too often.\n",
    "The disadvantage of undersampling is that you lose a lot of valuable data\n",
    "Oversampling means - Oversampling is the opposite of undersampling. Oversampling means making duplicates of the data that is the least present in your data set. You then add those duplicates to your data set.The disadvantage of oversampling is that it creates many duplicate data points.\n",
    "\n",
    "\n",
    "\n",
    "Oversampling methods duplicate or create new synthetic examples in the minority class, whereas undersampling methods delete or merge examples in the majority class. Both types of resampling can be effective when used in isolation, although can be more effective when both types of methods are used together.\n",
    "\n",
    "\n",
    "Resampling methods are designed to add or remove examples from the training dataset in order to change the class distribution.\n",
    "\n",
    "Once the class distributions are more balanced, the suite of standard machine learning classification algorithms can be fit successfully on the transformed datasets\n",
    "\n",
    "Both types of resampling can be effective when used in isolation, although can be more effective when both types of methods are used together.\n",
    "\n",
    "fit_resample function  - The class is like a scikit-learn transform object in that it is fit on a dataset, then used to generate a new or transformed dataset\n",
    "\n",
    "\n",
    "SVM Explained\n",
    "The Support Vector Machine is a supervised learning algorithm mostly used for classification but it can be used also for regression. The main idea is that based on the labeled data (training data) the algorithm tries to find the optimal hyperplane which can be used to classify new data points. In two dimensions the hyperplane is a simple line."
   ]
  },
  {
   "cell_type": "code",
   "execution_count": null,
   "id": "77892723",
   "metadata": {},
   "outputs": [],
   "source": []
  }
 ],
 "metadata": {
  "kernelspec": {
   "display_name": "Python 3 (ipykernel)",
   "language": "python",
   "name": "python3"
  },
  "language_info": {
   "codemirror_mode": {
    "name": "ipython",
    "version": 3
   },
   "file_extension": ".py",
   "mimetype": "text/x-python",
   "name": "python",
   "nbconvert_exporter": "python",
   "pygments_lexer": "ipython3",
   "version": "3.8.5"
  }
 },
 "nbformat": 4,
 "nbformat_minor": 5
}
